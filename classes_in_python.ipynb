{
 "cells": [
  {
   "cell_type": "markdown",
   "metadata": {},
   "source": [
    "# Classes in Python\n",
    "\n",
    "In this lecture we will:\n",
    "\n",
    "1. Understand what a python class it\n",
    "1. Create our own classes with attributes\n",
    "1. Understand some standard methods and their roles\n",
    "1. Understand inheritance"
   ]
  },
  {
   "cell_type": "markdown",
   "metadata": {},
   "source": [
    "## We have already seen bound methods in python\n",
    "\n",
    "This is the stuff that you get after a dot:"
   ]
  },
  {
   "cell_type": "code",
   "execution_count": 1,
   "metadata": {
    "collapsed": false
   },
   "outputs": [
    {
     "name": "stdout",
     "output_type": "stream",
     "text": [
      "[3, 2, 1]\n"
     ]
    }
   ],
   "source": [
    "L = [1, 2, 3]\n",
    "L.reverse()\n",
    "print L"
   ]
  },
  {
   "cell_type": "markdown",
   "metadata": {},
   "source": [
    "In the above example ``reverse`` is a method *bound* to ``L``.\n",
    "In other words, it exists only in the context of a list.\n",
    "In this case, it is a function which takes only one argument, namely the list ``L`` itself (we will call this argument ``self``).\n",
    "\n",
    "## Methods with more arguments than ``self``:\n",
    "\n",
    "Methods can have more arguments. Example, consider:"
   ]
  },
  {
   "cell_type": "code",
   "execution_count": 2,
   "metadata": {
    "collapsed": false
   },
   "outputs": [
    {
     "name": "stdout",
     "output_type": "stream",
     "text": [
      "[3, 2, 1, 0]\n"
     ]
    }
   ],
   "source": [
    "L.append(0)\n",
    "print L"
   ]
  },
  {
   "cell_type": "markdown",
   "metadata": {},
   "source": [
    "In the above example, the method ``append`` is bound to ``L``. Therefore its first argument is ``L`` (``self``) and second argument is ``1`` in the above example.\n",
    "\n",
    "## The best way to understand how this works is to make your own example:\n",
    "\n",
    "We begin with Example 0, the most stripped down possible:"
   ]
  },
  {
   "cell_type": "code",
   "execution_count": 22,
   "metadata": {
    "collapsed": true
   },
   "outputs": [],
   "source": [
    "class ExampleClass:\n",
    "    \"\"\"An example class\"\"\"\n",
    "    def example_method(self):\n",
    "        \"\"\"Return None\"\"\"\n",
    "        return None"
   ]
  },
  {
   "cell_type": "markdown",
   "metadata": {},
   "source": [
    "In the above code, we defined a class called ``ExampleClass``.\n",
    "Note that in python, class names are always [CamelCase](https://en.wikipedia.org/wiki/Camel_case).\n",
    "\n",
    "We then defined a method called ``example_method``, which does not do anything.\n",
    "Methods are defined exactly the same was as functions are; the only difference is that they come under the scope of (i.e., in the code, they are indented under) a ``class`` command.\n",
    "Note that in python, function names are always lower case, with words separated by underscores.\n",
    "The same applies to bound methods.\n",
    "\n",
    "## Creating an \"instance\" of the class:"
   ]
  },
  {
   "cell_type": "code",
   "execution_count": 23,
   "metadata": {
    "collapsed": false
   },
   "outputs": [
    {
     "name": "stdout",
     "output_type": "stream",
     "text": [
      "<__main__.ExampleClass instance at 0x7f18a0651e18>\n"
     ]
    }
   ],
   "source": [
    "c = ExampleClass()\n",
    "print c"
   ]
  },
  {
   "cell_type": "markdown",
   "metadata": {},
   "source": [
    "The code above creates an instance of the class ``ExampleClass`` called ``c``.\n",
    "The method ``example_method`` will be bound to ``c``:"
   ]
  },
  {
   "cell_type": "code",
   "execution_count": 24,
   "metadata": {
    "collapsed": true
   },
   "outputs": [],
   "source": [
    "c.example_method()"
   ]
  },
  {
   "cell_type": "markdown",
   "metadata": {},
   "source": [
    "There was no output, because the method does not return anything (``return None`` is as good as no return statement)."
   ]
  },
  {
   "cell_type": "markdown",
   "metadata": {},
   "source": [
    "## A more natural example\n",
    "\n",
    "I will now define a more natural example, which I will then proceed to explain in detail. This is a user-defined class for a complex number.\n",
    "\n",
    "As you can imagine, we now need to store some information about the complex number, namely the real and imaginary parts."
   ]
  },
  {
   "cell_type": "code",
   "execution_count": 55,
   "metadata": {
    "collapsed": false
   },
   "outputs": [],
   "source": [
    "class ComplexNumber:\n",
    "    \"\"\"\n",
    "    The class of complex numbers.\n",
    "    \"\"\"\n",
    "    def __init__(self, real_part, imaginary_part):\n",
    "        \"\"\"\n",
    "        Initialize ``self`` with real and imaginary part.\n",
    "        \"\"\"\n",
    "        self.real = real_part\n",
    "        self.imaginary = imaginary_part"
   ]
  },
  {
   "cell_type": "code",
   "execution_count": 56,
   "metadata": {
    "collapsed": false
   },
   "outputs": [
    {
     "name": "stdout",
     "output_type": "stream",
     "text": [
      "Real part = 1\n",
      "Imaginary part = 2\n"
     ]
    }
   ],
   "source": [
    "z = ComplexNumber(1, 2)\n",
    "print \"Real part = %s\"%(z.real)\n",
    "print \"Imaginary part = %s\"%(z.imaginary)"
   ]
  },
  {
   "cell_type": "markdown",
   "metadata": {},
   "source": [
    "## Explanation:\n",
    "\n",
    "When the class ``ComplexNumber`` was instantiated, the python interpretter automatically looked for a very special method called ``__init__``, and tried to run in.\n",
    "\n",
    "In this case, the ``__init__`` takes three arguments, namely ``self`` (as usual) and two more arguments ``real_part`` and ``imaginary_part``.\n",
    "\n",
    "The latter two arguments were provided as arguments during instantiation (``ComplexNumber(1, 2)`` is the instantiation command), and the python iterpreter fed them as arguments to ``__init__``.\n",
    "\n",
    "What the ``__init__`` function then did was create two *attributes* which are bound to the instance ``z``, and gave them the values specified in the input.\n",
    "\n",
    "These attributes are part of the data stored by the instance ``z``.\n",
    "They can even be modified:"
   ]
  },
  {
   "cell_type": "code",
   "execution_count": 57,
   "metadata": {
    "collapsed": false
   },
   "outputs": [
    {
     "name": "stdout",
     "output_type": "stream",
     "text": [
      "-1\n"
     ]
    }
   ],
   "source": [
    "z.real = -1\n",
    "print z.real"
   ]
  },
  {
   "cell_type": "markdown",
   "metadata": {},
   "source": [
    "## Can create multiple instances if the same class:"
   ]
  },
  {
   "cell_type": "code",
   "execution_count": 58,
   "metadata": {
    "collapsed": true
   },
   "outputs": [],
   "source": [
    "w = ComplexNumber(0, -5)"
   ]
  },
  {
   "cell_type": "code",
   "execution_count": 59,
   "metadata": {
    "collapsed": false
   },
   "outputs": [
    {
     "data": {
      "text/plain": [
       "False"
      ]
     },
     "execution_count": 59,
     "metadata": {},
     "output_type": "execute_result"
    }
   ],
   "source": [
    "z == w"
   ]
  },
  {
   "cell_type": "code",
   "execution_count": 60,
   "metadata": {
    "collapsed": true
   },
   "outputs": [],
   "source": [
    "u = ComplexNumber(0, -5)"
   ]
  },
  {
   "cell_type": "code",
   "execution_count": 61,
   "metadata": {
    "collapsed": false
   },
   "outputs": [
    {
     "data": {
      "text/plain": [
       "False"
      ]
     },
     "execution_count": 61,
     "metadata": {},
     "output_type": "execute_result"
    }
   ],
   "source": [
    "z == u"
   ]
  },
  {
   "cell_type": "markdown",
   "metadata": {},
   "source": [
    "## We need to tell python explicitly how to evaluate equality:"
   ]
  },
  {
   "cell_type": "code",
   "execution_count": 34,
   "metadata": {
    "collapsed": true
   },
   "outputs": [],
   "source": [
    "class ComplexNumber:\n",
    "    \"\"\"\n",
    "    The class of complex numbers.\n",
    "    \"\"\"\n",
    "    def __init__(self, real_part, imaginary_part):\n",
    "        \"\"\"\n",
    "        Initialize ``self`` with real and imaginary part.\n",
    "        \"\"\"\n",
    "        self.real = real_part\n",
    "        self.imaginary = imaginary_part\n",
    "    def __eq__(self, other):\n",
    "        \"\"\"\n",
    "        Test if ``self`` equals ``other``.\n",
    "        \n",
    "        Two complex numbers are equal if their real parts are equal and\n",
    "        their imaginary parts are equal.\n",
    "        \"\"\"\n",
    "        return self.real == other.real and self.imaginary == other.imaginary"
   ]
  },
  {
   "cell_type": "code",
   "execution_count": 35,
   "metadata": {
    "collapsed": false
   },
   "outputs": [
    {
     "name": "stdout",
     "output_type": "stream",
     "text": [
      "True\n"
     ]
    }
   ],
   "source": [
    "z = ComplexNumber(0, -5)\n",
    "w = ComplexNumber(0, -5)\n",
    "print z == w"
   ]
  },
  {
   "cell_type": "code",
   "execution_count": 36,
   "metadata": {
    "collapsed": false
   },
   "outputs": [
    {
     "name": "stdout",
     "output_type": "stream",
     "text": [
      "False\n",
      "False\n"
     ]
    }
   ],
   "source": [
    "u = ComplexNumber(1, -5)\n",
    "v = ComplexNumber(0, -4)\n",
    "print z == u\n",
    "print z == v"
   ]
  },
  {
   "cell_type": "markdown",
   "metadata": {},
   "source": [
    "## Now let us boldly go ahead and define some new methods:"
   ]
  },
  {
   "cell_type": "code",
   "execution_count": 42,
   "metadata": {
    "collapsed": true
   },
   "outputs": [],
   "source": [
    "from math import sqrt\n",
    "class ComplexNumber:\n",
    "    \"\"\"\n",
    "    The class of complex numbers.\n",
    "    \"\"\"\n",
    "    def __init__(self, real_part, imaginary_part):\n",
    "        \"\"\"\n",
    "        Initialize ``self`` with real and imaginary part.\n",
    "        \"\"\"\n",
    "        self.real = real_part\n",
    "        self.imaginary = imaginary_part\n",
    "    def __eq__(self, other):\n",
    "        \"\"\"\n",
    "        Test if ``self`` equals ``other``.\n",
    "        \n",
    "        Two complex numbers are equal if their real parts are equal and\n",
    "        their imaginary parts are equal.\n",
    "        \"\"\"\n",
    "        return self.real == other.real and self.imaginary == other.imaginary\n",
    "    def modulus(self):\n",
    "        \"\"\"\n",
    "        Return the modulus of self.\n",
    "        \n",
    "        The modulus (or absolute value) of a complex number is the square\n",
    "        root of the sum of squares of its real and imaginary parts.\n",
    "        \"\"\"\n",
    "        return sqrt(self.real**2 + self.imaginary**2)"
   ]
  },
  {
   "cell_type": "code",
   "execution_count": 43,
   "metadata": {
    "collapsed": false
   },
   "outputs": [
    {
     "data": {
      "text/plain": [
       "5.0"
      ]
     },
     "execution_count": 43,
     "metadata": {},
     "output_type": "execute_result"
    }
   ],
   "source": [
    "z = ComplexNumber(3, 4)\n",
    "z.modulus()"
   ]
  },
  {
   "cell_type": "code",
   "execution_count": 44,
   "metadata": {
    "collapsed": true
   },
   "outputs": [],
   "source": [
    "## And now the unleash the full power of classes, a method can even return a new instance of the old class!"
   ]
  },
  {
   "cell_type": "code",
   "execution_count": 49,
   "metadata": {
    "collapsed": true
   },
   "outputs": [],
   "source": [
    "from math import sqrt\n",
    "class ComplexNumber:\n",
    "    \"\"\"\n",
    "    The class of complex numbers.\n",
    "    \"\"\"\n",
    "    def __init__(self, real_part, imaginary_part):\n",
    "        \"\"\"\n",
    "        Initialize ``self`` with real and imaginary part.\n",
    "        \"\"\"\n",
    "        self.real = real_part\n",
    "        self.imaginary = imaginary_part\n",
    "    def __eq__(self, other):\n",
    "        \"\"\"\n",
    "        Test if ``self`` equals ``other``.\n",
    "        \n",
    "        Two complex numbers are equal if their real parts are equal and\n",
    "        their imaginary parts are equal.\n",
    "        \"\"\"\n",
    "        return self.real == other.real and self.imaginary == other.imaginary\n",
    "    def modulus(self):\n",
    "        \"\"\"\n",
    "        Return the modulus of self.\n",
    "        \n",
    "        The modulus (or absolute value) of a complex number is the square\n",
    "        root of the sum of squares of its real and imaginary parts.\n",
    "        \"\"\"\n",
    "        return sqrt(self.real**2 + self.imaginary**2)\n",
    "    def sum(self, other):\n",
    "        \"\"\"\n",
    "        Return the sum of ``self`` and ``other``.\n",
    "        \"\"\"\n",
    "        return ComplexNumber(self.real + other.real, self.imaginary + other.imaginary)"
   ]
  },
  {
   "cell_type": "code",
   "execution_count": 51,
   "metadata": {
    "collapsed": false
   },
   "outputs": [
    {
     "name": "stdout",
     "output_type": "stream",
     "text": [
      "6 1\n"
     ]
    }
   ],
   "source": [
    "z = ComplexNumber(2, 1)\n",
    "w = ComplexNumber(4, 0)\n",
    "u = z.sum(w)\n",
    "print u.real, u.imaginary"
   ]
  },
  {
   "cell_type": "markdown",
   "metadata": {},
   "source": [
    "Here is something annoying about our class - **it does not print properly**:"
   ]
  },
  {
   "cell_type": "code",
   "execution_count": 52,
   "metadata": {
    "collapsed": false
   },
   "outputs": [
    {
     "name": "stdout",
     "output_type": "stream",
     "text": [
      "<__main__.ComplexNumber instance at 0x7f18a060b908>\n"
     ]
    }
   ],
   "source": [
    "print z"
   ]
  },
  {
   "cell_type": "markdown",
   "metadata": {},
   "source": [
    "## The ``__repr__`` method takes care of that:"
   ]
  },
  {
   "cell_type": "code",
   "execution_count": 71,
   "metadata": {
    "collapsed": true
   },
   "outputs": [],
   "source": [
    "from math import sqrt\n",
    "class ComplexNumber:\n",
    "    \"\"\"\n",
    "    The class of complex numbers.\n",
    "    \"\"\"\n",
    "    def __init__(self, real_part, imaginary_part):\n",
    "        \"\"\"\n",
    "        Initialize ``self`` with real and imaginary part.\n",
    "        \"\"\"\n",
    "        self.real = real_part\n",
    "        self.imaginary = imaginary_part\n",
    "    def __repr__(self):\n",
    "        \"\"\"\n",
    "        Return the string representation of self.\n",
    "        \"\"\"\n",
    "        return \"%s + %s i\"%(self.real, self.imaginary)\n",
    "    def __eq__(self, other):\n",
    "        \"\"\"\n",
    "        Test if ``self`` equals ``other``.\n",
    "        \n",
    "        Two complex numbers are equal if their real parts are equal and\n",
    "        their imaginary parts are equal.\n",
    "        \"\"\"\n",
    "        return self.real == other.real and self.imaginary == other.imaginary\n",
    "    def modulus(self):\n",
    "        \"\"\"\n",
    "        Return the modulus of self.\n",
    "        \n",
    "        The modulus (or absolute value) of a complex number is the square\n",
    "        root of the sum of squares of its real and imaginary parts.\n",
    "        \"\"\"\n",
    "        return sqrt(self.real**2 + self.imaginary**2)\n",
    "    def sum(self, other):\n",
    "        \"\"\"\n",
    "        Return the sum of ``self`` and ``other``.\n",
    "        \"\"\"\n",
    "        return ComplexNumber(self.real + other.real, self.imaginary + other.imaginary)"
   ]
  },
  {
   "cell_type": "code",
   "execution_count": 72,
   "metadata": {
    "collapsed": false
   },
   "outputs": [
    {
     "name": "stdout",
     "output_type": "stream",
     "text": [
      "2 + 1 i\n"
     ]
    }
   ],
   "source": [
    "z = ComplexNumber(2, 1)\n",
    "print z"
   ]
  },
  {
   "cell_type": "markdown",
   "metadata": {},
   "source": [
    "## Inheritance\n",
    "\n",
    "Sometimes you wish to define a class that has many properties of an existing class. A class can derive properties of an existing class by inheritance.\n",
    "\n",
    "Let us define a class called ``NonZeroComplexNumber`` which derives most of its properties from ``ComplexNumber``, but allows for the method ``inverse`` (which should not be available to a complex number)."
   ]
  },
  {
   "cell_type": "code",
   "execution_count": 73,
   "metadata": {
    "collapsed": true
   },
   "outputs": [],
   "source": [
    "class NonZeroComplexNumber(ComplexNumber):\n",
    "    pass"
   ]
  },
  {
   "cell_type": "code",
   "execution_count": 74,
   "metadata": {
    "collapsed": false
   },
   "outputs": [
    {
     "name": "stdout",
     "output_type": "stream",
     "text": [
      "2 + 1 i\n",
      "2.2360679775\n"
     ]
    }
   ],
   "source": [
    "z = NonZeroComplexNumber(2, 1)\n",
    "print z\n",
    "print z.modulus()"
   ]
  },
  {
   "cell_type": "markdown",
   "metadata": {},
   "source": [
    "Instances of the new class have every method which a ``ComplexNumber``.\n",
    "\n",
    "### Terminology:\n",
    "*. ``ComplexNumber`` is the **superclass**.\n",
    "*. ``NonZeroComplexNumber`` is the **subclass**.\n",
    "\n",
    "So far, there is no functional difference between these two classes. But now let us add a methos to ``NonZeroComplexNumber``:"
   ]
  },
  {
   "cell_type": "code",
   "execution_count": 77,
   "metadata": {
    "collapsed": true
   },
   "outputs": [],
   "source": [
    "class NonZeroComplexNumber(ComplexNumber):\n",
    "    def inverse(self):\n",
    "        \"\"\"\n",
    "        Return the multiplicative inverse of ``self``.\n",
    "        \"\"\"\n",
    "        den = self.real**2 + self.imaginary**2\n",
    "        return NonZeroComplexNumber(self.real/den, -self.imaginary/den)"
   ]
  },
  {
   "cell_type": "code",
   "execution_count": 78,
   "metadata": {
    "collapsed": false
   },
   "outputs": [
    {
     "name": "stdout",
     "output_type": "stream",
     "text": [
      "0.4 + -0.2 i\n"
     ]
    }
   ],
   "source": [
    "z = NonZeroComplexNumber(2.0, 1.0)\n",
    "print z.inverse()"
   ]
  },
  {
   "cell_type": "markdown",
   "metadata": {},
   "source": [
    "## Overwriting superclass methods:"
   ]
  },
  {
   "cell_type": "code",
   "execution_count": 88,
   "metadata": {
    "collapsed": true
   },
   "outputs": [],
   "source": [
    "class NonZeroComplexNumber(ComplexNumber):\n",
    "    def __init__(self, real_part, imaginary_part):\n",
    "        \"\"\"\n",
    "        Initialize ``self`` with real and imaginary parts after checking validity.\n",
    "        \"\"\"\n",
    "        if real_part == 0 and imaginary_part == 0:\n",
    "            raise ValueError(\"Real or imaginary part should be nonzero.\")\n",
    "        return ComplexNumber.__init__(self, real_part, imaginary_part)\n",
    "    def inverse(self):\n",
    "        \"\"\"\n",
    "        Return the multiplicative inverse of ``self``.\n",
    "        \"\"\"\n",
    "        den = self.real**2 + self.imaginary**2\n",
    "        return NonZeroComplexNumber(self.real/den, -self.imaginary/den)"
   ]
  },
  {
   "cell_type": "code",
   "execution_count": 89,
   "metadata": {
    "collapsed": false
   },
   "outputs": [
    {
     "name": "stdout",
     "output_type": "stream",
     "text": [
      "0.4 + -0.2 i\n"
     ]
    }
   ],
   "source": [
    "z = NonZeroComplexNumber(2.0, 1.0)\n",
    "print z.inverse()"
   ]
  },
  {
   "cell_type": "code",
   "execution_count": null,
   "metadata": {
    "collapsed": true
   },
   "outputs": [],
   "source": []
  }
 ],
 "metadata": {
  "kernelspec": {
   "display_name": "Python 2",
   "language": "python",
   "name": "python2"
  },
  "language_info": {
   "codemirror_mode": {
    "name": "ipython",
    "version": 2
   },
   "file_extension": ".py",
   "mimetype": "text/x-python",
   "name": "python",
   "nbconvert_exporter": "python",
   "pygments_lexer": "ipython2",
   "version": "2.7.10"
  }
 },
 "nbformat": 4,
 "nbformat_minor": 0
}
